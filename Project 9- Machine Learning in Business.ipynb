{
 "cells": [
  {
   "cell_type": "markdown",
   "metadata": {},
   "source": [
    "# Introduction\n",
    "\n",
    "The aim of this project is to find the best location for a new oil well for the OilyGiant mining company. The project involves several critical steps, including collecting oil well parameters, building a predictive model, selecting the wells with the highest estimated values, and choosing the region with the highest total profit for the selected oil wells.\n",
    "\n",
    "In this project, we will:\n",
    "\n",
    "Collect data on oil quality and volume of reserves in the selected regions.\n",
    "Build a model to predict the volume of reserves in new wells.\n",
    "Identify the wells with the highest predicted values.\n",
    "Select the region that promises the highest total profit for the chosen oil wells.\n",
    "Using data on oil samples from three regions, the goal is to determine which region offers the best profit margin. This will be achieved by analyzing potential profits and risks with the Bootstrapping technique, ensuring a thorough evaluation of each region's potential."
   ]
  },
  {
   "cell_type": "markdown",
   "metadata": {},
   "source": [
    "## Download and prepare the data "
   ]
  },
  {
   "cell_type": "code",
   "execution_count": 2,
   "metadata": {},
   "outputs": [],
   "source": [
    "# Import the libraries\n",
    "import pandas as pd\n",
    "from sklearn.model_selection import train_test_split\n",
    "from sklearn.linear_model import LinearRegression\n",
    "from sklearn.metrics import mean_squared_error\n",
    "import numpy as np\n",
    "from sklearn.utils import resample"
   ]
  },
  {
   "cell_type": "code",
   "execution_count": 3,
   "metadata": {},
   "outputs": [],
   "source": [
    "df1 = pd.read_csv('/datasets/geo_data_0.csv')\n",
    "df2 = pd.read_csv('/datasets/geo_data_1.csv')\n",
    "df3 = pd.read_csv('/datasets/geo_data_2.csv')"
   ]
  },
  {
   "cell_type": "code",
   "execution_count": 4,
   "metadata": {},
   "outputs": [
    {
     "data": {
      "text/html": [
       "<div>\n",
       "<style scoped>\n",
       "    .dataframe tbody tr th:only-of-type {\n",
       "        vertical-align: middle;\n",
       "    }\n",
       "\n",
       "    .dataframe tbody tr th {\n",
       "        vertical-align: top;\n",
       "    }\n",
       "\n",
       "    .dataframe thead th {\n",
       "        text-align: right;\n",
       "    }\n",
       "</style>\n",
       "<table border=\"1\" class=\"dataframe\">\n",
       "  <thead>\n",
       "    <tr style=\"text-align: right;\">\n",
       "      <th></th>\n",
       "      <th>id</th>\n",
       "      <th>f0</th>\n",
       "      <th>f1</th>\n",
       "      <th>f2</th>\n",
       "      <th>product</th>\n",
       "    </tr>\n",
       "  </thead>\n",
       "  <tbody>\n",
       "    <tr>\n",
       "      <th>0</th>\n",
       "      <td>txEyH</td>\n",
       "      <td>0.705745</td>\n",
       "      <td>-0.497823</td>\n",
       "      <td>1.221170</td>\n",
       "      <td>105.280062</td>\n",
       "    </tr>\n",
       "    <tr>\n",
       "      <th>1</th>\n",
       "      <td>2acmU</td>\n",
       "      <td>1.334711</td>\n",
       "      <td>-0.340164</td>\n",
       "      <td>4.365080</td>\n",
       "      <td>73.037750</td>\n",
       "    </tr>\n",
       "    <tr>\n",
       "      <th>2</th>\n",
       "      <td>409Wp</td>\n",
       "      <td>1.022732</td>\n",
       "      <td>0.151990</td>\n",
       "      <td>1.419926</td>\n",
       "      <td>85.265647</td>\n",
       "    </tr>\n",
       "    <tr>\n",
       "      <th>3</th>\n",
       "      <td>iJLyR</td>\n",
       "      <td>-0.032172</td>\n",
       "      <td>0.139033</td>\n",
       "      <td>2.978566</td>\n",
       "      <td>168.620776</td>\n",
       "    </tr>\n",
       "    <tr>\n",
       "      <th>4</th>\n",
       "      <td>Xdl7t</td>\n",
       "      <td>1.988431</td>\n",
       "      <td>0.155413</td>\n",
       "      <td>4.751769</td>\n",
       "      <td>154.036647</td>\n",
       "    </tr>\n",
       "  </tbody>\n",
       "</table>\n",
       "</div>"
      ],
      "text/plain": [
       "      id        f0        f1        f2     product\n",
       "0  txEyH  0.705745 -0.497823  1.221170  105.280062\n",
       "1  2acmU  1.334711 -0.340164  4.365080   73.037750\n",
       "2  409Wp  1.022732  0.151990  1.419926   85.265647\n",
       "3  iJLyR -0.032172  0.139033  2.978566  168.620776\n",
       "4  Xdl7t  1.988431  0.155413  4.751769  154.036647"
      ]
     },
     "execution_count": 4,
     "metadata": {},
     "output_type": "execute_result"
    }
   ],
   "source": [
    "df1.head()"
   ]
  },
  {
   "cell_type": "code",
   "execution_count": 5,
   "metadata": {},
   "outputs": [
    {
     "data": {
      "text/html": [
       "<div>\n",
       "<style scoped>\n",
       "    .dataframe tbody tr th:only-of-type {\n",
       "        vertical-align: middle;\n",
       "    }\n",
       "\n",
       "    .dataframe tbody tr th {\n",
       "        vertical-align: top;\n",
       "    }\n",
       "\n",
       "    .dataframe thead th {\n",
       "        text-align: right;\n",
       "    }\n",
       "</style>\n",
       "<table border=\"1\" class=\"dataframe\">\n",
       "  <thead>\n",
       "    <tr style=\"text-align: right;\">\n",
       "      <th></th>\n",
       "      <th>id</th>\n",
       "      <th>f0</th>\n",
       "      <th>f1</th>\n",
       "      <th>f2</th>\n",
       "      <th>product</th>\n",
       "    </tr>\n",
       "  </thead>\n",
       "  <tbody>\n",
       "    <tr>\n",
       "      <th>0</th>\n",
       "      <td>kBEdx</td>\n",
       "      <td>-15.001348</td>\n",
       "      <td>-8.276000</td>\n",
       "      <td>-0.005876</td>\n",
       "      <td>3.179103</td>\n",
       "    </tr>\n",
       "    <tr>\n",
       "      <th>1</th>\n",
       "      <td>62mP7</td>\n",
       "      <td>14.272088</td>\n",
       "      <td>-3.475083</td>\n",
       "      <td>0.999183</td>\n",
       "      <td>26.953261</td>\n",
       "    </tr>\n",
       "    <tr>\n",
       "      <th>2</th>\n",
       "      <td>vyE1P</td>\n",
       "      <td>6.263187</td>\n",
       "      <td>-5.948386</td>\n",
       "      <td>5.001160</td>\n",
       "      <td>134.766305</td>\n",
       "    </tr>\n",
       "    <tr>\n",
       "      <th>3</th>\n",
       "      <td>KcrkZ</td>\n",
       "      <td>-13.081196</td>\n",
       "      <td>-11.506057</td>\n",
       "      <td>4.999415</td>\n",
       "      <td>137.945408</td>\n",
       "    </tr>\n",
       "    <tr>\n",
       "      <th>4</th>\n",
       "      <td>AHL4O</td>\n",
       "      <td>12.702195</td>\n",
       "      <td>-8.147433</td>\n",
       "      <td>5.004363</td>\n",
       "      <td>134.766305</td>\n",
       "    </tr>\n",
       "  </tbody>\n",
       "</table>\n",
       "</div>"
      ],
      "text/plain": [
       "      id         f0         f1        f2     product\n",
       "0  kBEdx -15.001348  -8.276000 -0.005876    3.179103\n",
       "1  62mP7  14.272088  -3.475083  0.999183   26.953261\n",
       "2  vyE1P   6.263187  -5.948386  5.001160  134.766305\n",
       "3  KcrkZ -13.081196 -11.506057  4.999415  137.945408\n",
       "4  AHL4O  12.702195  -8.147433  5.004363  134.766305"
      ]
     },
     "execution_count": 5,
     "metadata": {},
     "output_type": "execute_result"
    }
   ],
   "source": [
    "df2.head()"
   ]
  },
  {
   "cell_type": "code",
   "execution_count": 6,
   "metadata": {},
   "outputs": [
    {
     "data": {
      "text/html": [
       "<div>\n",
       "<style scoped>\n",
       "    .dataframe tbody tr th:only-of-type {\n",
       "        vertical-align: middle;\n",
       "    }\n",
       "\n",
       "    .dataframe tbody tr th {\n",
       "        vertical-align: top;\n",
       "    }\n",
       "\n",
       "    .dataframe thead th {\n",
       "        text-align: right;\n",
       "    }\n",
       "</style>\n",
       "<table border=\"1\" class=\"dataframe\">\n",
       "  <thead>\n",
       "    <tr style=\"text-align: right;\">\n",
       "      <th></th>\n",
       "      <th>id</th>\n",
       "      <th>f0</th>\n",
       "      <th>f1</th>\n",
       "      <th>f2</th>\n",
       "      <th>product</th>\n",
       "    </tr>\n",
       "  </thead>\n",
       "  <tbody>\n",
       "    <tr>\n",
       "      <th>0</th>\n",
       "      <td>fwXo0</td>\n",
       "      <td>-1.146987</td>\n",
       "      <td>0.963328</td>\n",
       "      <td>-0.828965</td>\n",
       "      <td>27.758673</td>\n",
       "    </tr>\n",
       "    <tr>\n",
       "      <th>1</th>\n",
       "      <td>WJtFt</td>\n",
       "      <td>0.262778</td>\n",
       "      <td>0.269839</td>\n",
       "      <td>-2.530187</td>\n",
       "      <td>56.069697</td>\n",
       "    </tr>\n",
       "    <tr>\n",
       "      <th>2</th>\n",
       "      <td>ovLUW</td>\n",
       "      <td>0.194587</td>\n",
       "      <td>0.289035</td>\n",
       "      <td>-5.586433</td>\n",
       "      <td>62.871910</td>\n",
       "    </tr>\n",
       "    <tr>\n",
       "      <th>3</th>\n",
       "      <td>q6cA6</td>\n",
       "      <td>2.236060</td>\n",
       "      <td>-0.553760</td>\n",
       "      <td>0.930038</td>\n",
       "      <td>114.572842</td>\n",
       "    </tr>\n",
       "    <tr>\n",
       "      <th>4</th>\n",
       "      <td>WPMUX</td>\n",
       "      <td>-0.515993</td>\n",
       "      <td>1.716266</td>\n",
       "      <td>5.899011</td>\n",
       "      <td>149.600746</td>\n",
       "    </tr>\n",
       "  </tbody>\n",
       "</table>\n",
       "</div>"
      ],
      "text/plain": [
       "      id        f0        f1        f2     product\n",
       "0  fwXo0 -1.146987  0.963328 -0.828965   27.758673\n",
       "1  WJtFt  0.262778  0.269839 -2.530187   56.069697\n",
       "2  ovLUW  0.194587  0.289035 -5.586433   62.871910\n",
       "3  q6cA6  2.236060 -0.553760  0.930038  114.572842\n",
       "4  WPMUX -0.515993  1.716266  5.899011  149.600746"
      ]
     },
     "execution_count": 6,
     "metadata": {},
     "output_type": "execute_result"
    }
   ],
   "source": [
    "df3.head()"
   ]
  },
  {
   "cell_type": "code",
   "execution_count": 7,
   "metadata": {},
   "outputs": [
    {
     "name": "stdout",
     "output_type": "stream",
     "text": [
      "<class 'pandas.core.frame.DataFrame'>\n",
      "RangeIndex: 100000 entries, 0 to 99999\n",
      "Data columns (total 5 columns):\n",
      " #   Column   Non-Null Count   Dtype  \n",
      "---  ------   --------------   -----  \n",
      " 0   id       100000 non-null  object \n",
      " 1   f0       100000 non-null  float64\n",
      " 2   f1       100000 non-null  float64\n",
      " 3   f2       100000 non-null  float64\n",
      " 4   product  100000 non-null  float64\n",
      "dtypes: float64(4), object(1)\n",
      "memory usage: 3.8+ MB\n"
     ]
    }
   ],
   "source": [
    "# checking the datasets datatypes, for duplicates and for null types \n",
    "df1.info()"
   ]
  },
  {
   "cell_type": "code",
   "execution_count": 8,
   "metadata": {},
   "outputs": [
    {
     "data": {
      "text/plain": [
       "0"
      ]
     },
     "execution_count": 8,
     "metadata": {},
     "output_type": "execute_result"
    }
   ],
   "source": [
    "df1.duplicated().sum()"
   ]
  },
  {
   "cell_type": "code",
   "execution_count": 9,
   "metadata": {},
   "outputs": [
    {
     "name": "stdout",
     "output_type": "stream",
     "text": [
      "<class 'pandas.core.frame.DataFrame'>\n",
      "RangeIndex: 100000 entries, 0 to 99999\n",
      "Data columns (total 5 columns):\n",
      " #   Column   Non-Null Count   Dtype  \n",
      "---  ------   --------------   -----  \n",
      " 0   id       100000 non-null  object \n",
      " 1   f0       100000 non-null  float64\n",
      " 2   f1       100000 non-null  float64\n",
      " 3   f2       100000 non-null  float64\n",
      " 4   product  100000 non-null  float64\n",
      "dtypes: float64(4), object(1)\n",
      "memory usage: 3.8+ MB\n"
     ]
    }
   ],
   "source": [
    "df2.info()"
   ]
  },
  {
   "cell_type": "code",
   "execution_count": 10,
   "metadata": {},
   "outputs": [
    {
     "data": {
      "text/plain": [
       "0"
      ]
     },
     "execution_count": 10,
     "metadata": {},
     "output_type": "execute_result"
    }
   ],
   "source": [
    "df2.duplicated().sum()"
   ]
  },
  {
   "cell_type": "code",
   "execution_count": 11,
   "metadata": {},
   "outputs": [
    {
     "name": "stdout",
     "output_type": "stream",
     "text": [
      "<class 'pandas.core.frame.DataFrame'>\n",
      "RangeIndex: 100000 entries, 0 to 99999\n",
      "Data columns (total 5 columns):\n",
      " #   Column   Non-Null Count   Dtype  \n",
      "---  ------   --------------   -----  \n",
      " 0   id       100000 non-null  object \n",
      " 1   f0       100000 non-null  float64\n",
      " 2   f1       100000 non-null  float64\n",
      " 3   f2       100000 non-null  float64\n",
      " 4   product  100000 non-null  float64\n",
      "dtypes: float64(4), object(1)\n",
      "memory usage: 3.8+ MB\n"
     ]
    }
   ],
   "source": [
    "df3.info()"
   ]
  },
  {
   "cell_type": "code",
   "execution_count": 12,
   "metadata": {},
   "outputs": [
    {
     "data": {
      "text/plain": [
       "0"
      ]
     },
     "execution_count": 12,
     "metadata": {},
     "output_type": "execute_result"
    }
   ],
   "source": [
    "df3.duplicated().sum()"
   ]
  },
  {
   "cell_type": "markdown",
   "metadata": {},
   "source": [
    "We see that there is no duplicated rows or null values in the datasets that were given."
   ]
  },
  {
   "cell_type": "code",
   "execution_count": 13,
   "metadata": {},
   "outputs": [
    {
     "data": {
      "image/png": "[encoded data removed]",
      "text/plain": [
       "<Figure size 1000x600 with 1 Axes>"
      ]
     },
     "metadata": {},
     "output_type": "display_data"
    }
   ],
   "source": [
    "import matplotlib.pyplot as plt\n",
    "\n",
    "# Plot histogram of reserves in region 0\n",
    "plt.figure(figsize=(10, 6))\n",
    "plt.hist(df1['product'], bins=50, color='skyblue', edgecolor='black')\n",
    "plt.title('Distribution of Reserves in Region 0')\n",
    "plt.xlabel('Volume of Reserves (Thousand Barrels)')\n",
    "plt.ylabel('Frequency')\n",
    "plt.grid(True)\n",
    "plt.show()"
   ]
  },
  {
   "cell_type": "markdown",
   "metadata": {},
   "source": [
    "Based on the graph above: it shows the distribution of reserves in Region 0. It appears to have a multimodal distribution, with several peaks indicating multiple clusters of reserves at different volume levels. The highest peak is between 2,500 and 3,000 thousand barrels, suggesting a significant number of reserves with volumes around that level."
   ]
  },
  {
   "cell_type": "code",
   "execution_count": 14,
   "metadata": {},
   "outputs": [
    {
     "data": {
      "image/png": "[encoded data removed]",
      "text/plain": [
       "<Figure size 1000x600 with 1 Axes>"
      ]
     },
     "metadata": {},
     "output_type": "display_data"
    }
   ],
   "source": [
    "# Plot histogram of reserves in region 0\n",
    "plt.figure(figsize=(10, 6))\n",
    "plt.hist(df2['product'], bins=50, color='skyblue', edgecolor='black')\n",
    "plt.title('Distribution of Reserves in Region 1')\n",
    "plt.xlabel('Volume of Reserves (Thousand Barrels)')\n",
    "plt.ylabel('Frequency')\n",
    "plt.grid(True)\n",
    "plt.show()"
   ]
  },
  {
   "cell_type": "markdown",
   "metadata": {},
   "source": [
    "From the graph above, we see the distribution of reserves in Region 1. It has a distinct bimodal distribution, with two prominent peaks around 8,000 and 8,500 thousand barrels. This indicates that most reserves in this region are concentrated around these two volume levels."
   ]
  },
  {
   "cell_type": "code",
   "execution_count": 15,
   "metadata": {
    "scrolled": false
   },
   "outputs": [
    {
     "data": {
      "image/png": "[encoded data removed]",
      "text/plain": [
       "<Figure size 1000x600 with 1 Axes>"
      ]
     },
     "metadata": {},
     "output_type": "display_data"
    }
   ],
   "source": [
    "# Plot histogram of reserves in region 0\n",
    "plt.figure(figsize=(10, 6))\n",
    "plt.hist(df3['product'], bins=50, color='skyblue', edgecolor='black')\n",
    "plt.title('Distribution of Reserves in Region 3')\n",
    "plt.xlabel('Volume of Reserves (Thousand Barrels)')\n",
    "plt.ylabel('Frequency')\n",
    "plt.grid(True)\n",
    "plt.show()"
   ]
  },
  {
   "cell_type": "markdown",
   "metadata": {},
   "source": [
    "From the graph above we see that the distribution of reserves in Region 3. It exhibits a more complex, multimodal distribution with several peaks and troughs. The highest peak is around 3,000 thousand barrels, indicating a large number of reserves with volumes around that level. However, there are also other significant peaks at various volume levels, suggesting a diverse range of reserve sizes in this region."
   ]
  },
  {
   "cell_type": "markdown",
   "metadata": {},
   "source": [
    "## Train and test the model for each region"
   ]
  },
  {
   "cell_type": "code",
   "execution_count": 16,
   "metadata": {},
   "outputs": [],
   "source": [
    "def train_test_model(data):\n",
    "    # Split data into features (X) and target (y)\n",
    "    features = data.drop(['id', 'product'], axis=1)\n",
    "    target = data['product']\n",
    "    \n",
    "    # Split data into training and validation sets\n",
    "    features_train, features_valid, target_train, target_valid = train_test_split(features, target, test_size=0.25, random_state=42)\n",
    "    \n",
    "    # Train the model\n",
    "    model = LinearRegression()\n",
    "    model.fit(features_train, target_train)\n",
    "    \n",
    "    # Make predictions on validation set\n",
    "    target_pred = model.predict(features_valid)\n",
    "    \n",
    "    # Calculate RMSE\n",
    "    rmse = mean_squared_error(target_valid, target_pred, squared=False)\n",
    "    \n",
    "    # Print average volume of predicted reserves and model RMSE\n",
    "    print(\"Average Volume of Predicted Reserves:\", target_pred.mean())\n",
    "    print(\"Model RMSE:\", rmse)\n",
    "    \n",
    "    return model, target_pred, target_valid"
   ]
  },
  {
   "cell_type": "code",
   "execution_count": 17,
   "metadata": {},
   "outputs": [
    {
     "name": "stdout",
     "output_type": "stream",
     "text": [
      "Region 0:\n",
      "Average Volume of Predicted Reserves: 92.3987999065777\n",
      "Model RMSE: 37.756600350261685\n"
     ]
    }
   ],
   "source": [
    "# Train and test model for each region\n",
    "print(\"Region 0:\")\n",
    "model_0, predictions_0, true_values_0 = train_test_model(df1)"
   ]
  },
  {
   "cell_type": "code",
   "execution_count": 18,
   "metadata": {},
   "outputs": [
    {
     "name": "stdout",
     "output_type": "stream",
     "text": [
      "Region 1:\n",
      "Average Volume of Predicted Reserves: 68.71287803913762\n",
      "Model RMSE: 0.890280100102884\n"
     ]
    }
   ],
   "source": [
    "print(\"Region 1:\")\n",
    "model_1, predictions_1, true_values_1 = train_test_model(df2)"
   ]
  },
  {
   "cell_type": "code",
   "execution_count": 19,
   "metadata": {},
   "outputs": [
    {
     "name": "stdout",
     "output_type": "stream",
     "text": [
      "Region 2:\n",
      "Average Volume of Predicted Reserves: 94.77102387765939\n",
      "Model RMSE: 40.14587231134218\n"
     ]
    }
   ],
   "source": [
    "print(\"Region 2:\")\n",
    "model_2, predictions_2, true_values_2 = train_test_model(df3)"
   ]
  },
  {
   "cell_type": "markdown",
   "metadata": {},
   "source": [
    "Interpretation of RMSE\n",
    "- Lower RMSE: Indicates a better fit of the model to the data, meaning the predictions are closer to the actual values.\n",
    "- Higher RMSE: Indicates a poorer fit, meaning there is a larger difference between the predicted and actual values.\n",
    " \n",
    "From the results of the models above, we see that the region with the lowest RSME is region 1. Also we must note that it has the lowest reserves as well."
   ]
  },
  {
   "cell_type": "markdown",
   "metadata": {},
   "source": [
    "## Prepare for profit calculation"
   ]
  },
  {
   "cell_type": "markdown",
   "metadata": {},
   "source": [
    "When exploring the region, a study of 500 points is carried with picking the best 200 points for the profit calculation.\n",
    "\n",
    "The budget for development of 200 oil wells is 100 USD million.\n",
    "\n",
    "One barrel of raw materials brings 4.5 USD of revenue The revenue from one unit of product is 4,500 dollars (volume of reserves is in thousand barrels).\n",
    "\n",
    "After the risk evaluation, keep only the regions with the risk of losses lower than 2.5%. From the ones that fit the criteria, the region with the highest average profit should be selected."
   ]
  },
  {
   "cell_type": "markdown",
   "metadata": {},
   "source": [
    "### Store all key values for calculations in separate variables."
   ]
  },
  {
   "cell_type": "code",
   "execution_count": 20,
   "metadata": {},
   "outputs": [],
   "source": [
    "# Store Key Values\n",
    "budget = 100000000  # in USD\n",
    "revenue_per_barrel = 4.5  # in USD\n",
    "total_wells = 200\n",
    "cost_per_well = budget / total_wells  # 500,000 USD"
   ]
  },
  {
   "cell_type": "code",
   "execution_count": 21,
   "metadata": {},
   "outputs": [],
   "source": [
    "# Calculate average volume of reserves in each region\n",
    "avg_volume_region_0 = df1['product'].mean()\n",
    "avg_volume_region_1 = df2['product'].mean()\n",
    "avg_volume_region_2 = df3['product'].mean()"
   ]
  },
  {
   "cell_type": "markdown",
   "metadata": {},
   "source": [
    "### Calculate the volume of reserves sufficient for developing a new well without losses."
   ]
  },
  {
   "cell_type": "code",
   "execution_count": 22,
   "metadata": {
    "scrolled": true
   },
   "outputs": [
    {
     "name": "stdout",
     "output_type": "stream",
     "text": [
      "Break-even volume of reserves per well (barrels): 111111.111\n",
      "Break even in thousand barrels: 111.11111111111111\n"
     ]
    }
   ],
   "source": [
    "break_even_volume = cost_per_well / revenue_per_barrel \n",
    "print(f\"Break-even volume of reserves per well (barrels): {break_even_volume:.3f}\")\n",
    "# Since the volume of reserves is given in thousand barrels, convert this to thousand barrels:\n",
    "break_even = break_even_volume / 1000\n",
    "print(f\"Break even in thousand barrels: {break_even}\")"
   ]
  },
  {
   "cell_type": "code",
   "execution_count": 23,
   "metadata": {},
   "outputs": [
    {
     "name": "stdout",
     "output_type": "stream",
     "text": [
      "Average volume of reserves in each region (thousand barrels):\n",
      "Region 0: 92.500\n",
      "Region 1: 68.825\n",
      "Region 2: 95.000\n"
     ]
    }
   ],
   "source": [
    "# compare with average voliume of reserves in each region\n",
    "\n",
    "print(\"Average volume of reserves in each region (thousand barrels):\")\n",
    "print(f\"Region 0: {avg_volume_region_0:.3f}\")\n",
    "print(f\"Region 1: {avg_volume_region_1:.3f}\")\n",
    "print(f\"Region 2: {avg_volume_region_2:.3f}\")"
   ]
  },
  {
   "cell_type": "markdown",
   "metadata": {},
   "source": [
    "### Provide the findings about the preparation for profit calculation step."
   ]
  },
  {
   "cell_type": "markdown",
   "metadata": {},
   "source": [
    "Findings:\n",
    "1. The Break-even volume is: 111.111 thousand barrels\n",
    "2. The average volume of reserves are:\n",
    "   - Region 0: 92.500 thousand barrels\n",
    "   - Region 1: 68.825 thousand barrels\n",
    "   - Region 2: 95.000 thousand barrels\n",
    "\n",
    "Based on the above analysis, none of the regions have an average volume of reserves that meets or exceeds the break-even volume of 111.111 thousand barrels. This implies that, on average, wells in these regions may not be profitable if developed, as they fall short of the volume needed to break even on the cost of development."
   ]
  },
  {
   "cell_type": "markdown",
   "metadata": {},
   "source": [
    "## function to calculate profit from a set of selected oil wells and model predictions"
   ]
  },
  {
   "cell_type": "markdown",
   "metadata": {},
   "source": [
    "### Pick the wells with the highest values of predictions."
   ]
  },
  {
   "cell_type": "code",
   "execution_count": 24,
   "metadata": {},
   "outputs": [],
   "source": [
    "def calculate_profit(predictions, true_values, budget=100000000, cost_per_well=500000, revenue_per_barrel=4.5, top_n_wells=200):\n",
    "    # Select the top N wells with the highest predicted values\n",
    "    top_wells_indices = predictions.argsort()[-top_n_wells:][::-1]\n",
    "    selected_true_values = true_values[top_wells_indices]\n",
    "\n",
    "    # Calculate the total volume of reserves for the selected wells\n",
    "    total_volume = selected_true_values.sum()\n",
    "\n",
    "    # Calculate the profit\n",
    "    total_revenue = total_volume * revenue_per_barrel * 1000  # Convert thousand barrels to barrels\n",
    "    total_cost = top_n_wells * cost_per_well\n",
    "    profit = total_revenue - total_cost\n",
    "\n",
    "    return profit, total_volume"
   ]
  },
  {
   "cell_type": "code",
   "execution_count": 25,
   "metadata": {},
   "outputs": [],
   "source": [
    "# Convert pandas Series to numpy arrays\n",
    "predictions_0 = np.array(predictions_0)\n",
    "true_values_0 = np.array(true_values_0)\n",
    "predictions_1 = np.array(predictions_1)\n",
    "true_values_1 = np.array(true_values_1)\n",
    "predictions_2 = np.array(predictions_2)\n",
    "true_values_2 = np.array(true_values_2)"
   ]
  },
  {
   "cell_type": "markdown",
   "metadata": {},
   "source": [
    "### Calculate profit for each region"
   ]
  },
  {
   "cell_type": "code",
   "execution_count": 26,
   "metadata": {
    "scrolled": true
   },
   "outputs": [
    {
     "name": "stdout",
     "output_type": "stream",
     "text": [
      "Region 0: Total volume of reserves: 29686.98 thousand barrels, Profit: $33591411.14\n",
      "Region 1: Total volume of reserves: 27589.08 thousand barrels, Profit: $24150866.97\n",
      "Region 2: Total volume of reserves: 27996.83 thousand barrels, Profit: $25985717.59\n"
     ]
    }
   ],
   "source": [
    "# Calculate profit for each region\n",
    "profit_0, total_volume_0 = calculate_profit(predictions_0, true_values_0)\n",
    "profit_1, total_volume_1 = calculate_profit(predictions_1, true_values_1)\n",
    "profit_2, total_volume_2 = calculate_profit(predictions_2, true_values_2)\n",
    "\n",
    "# Print findings\n",
    "print(f\"Region 0: Total volume of reserves: {total_volume_0:.2f} thousand barrels, Profit: ${profit_0:.2f}\")\n",
    "print(f\"Region 1: Total volume of reserves: {total_volume_1:.2f} thousand barrels, Profit: ${profit_1:.2f}\")\n",
    "print(f\"Region 2: Total volume of reserves: {total_volume_2:.2f} thousand barrels, Profit: ${profit_2:.2f}\")"
   ]
  },
  {
   "cell_type": "code",
   "execution_count": 27,
   "metadata": {
    "scrolled": true
   },
   "outputs": [
    {
     "name": "stdout",
     "output_type": "stream",
     "text": [
      "Best region for oil wells development is Region 0 with a profit of $33591411.14\n"
     ]
    }
   ],
   "source": [
    "# Determine the best region\n",
    "profits = [profit_0, profit_1, profit_2]\n",
    "best_region = np.argmax(profits)\n",
    "print(f\"Best region for oil wells development is Region {best_region} with a profit of ${profits[best_region]:.2f}\")"
   ]
  },
  {
   "cell_type": "markdown",
   "metadata": {},
   "source": [
    "## Calculate risks and profit for each region:"
   ]
  },
  {
   "cell_type": "code",
   "execution_count": 28,
   "metadata": {},
   "outputs": [],
   "source": [
    "def calculate_risks_and_profit(profit_samples):\n",
    "    # Calculate average profit\n",
    "    avg_profit = np.mean(profit_samples)\n",
    "\n",
    "    # Calculate 95% confidence interval\n",
    "    confidence_interval = np.percentile(profit_samples, [2.5, 97.5])\n",
    "\n",
    "    # Calculate risk of losses\n",
    "    risk_of_losses = np.mean(profit_samples < 0) * 100\n",
    "\n",
    "    return avg_profit, confidence_interval, risk_of_losses"
   ]
  },
  {
   "cell_type": "code",
   "execution_count": 29,
   "metadata": {},
   "outputs": [],
   "source": [
    "# Function to perform bootstrapping and calculate profit samples\n",
    "def bootstrap_profit(predictions, true_values, budget=100000000, cost_per_well=500000, revenue_per_barrel=4.5, top_n_wells=200, num_samples=1000, sample_size=500):\n",
    "    # Initialize list to store profit samples\n",
    "    profit_samples = []\n",
    "\n",
    "    # Set random state for reproducibility\n",
    "    np.random.seed(42)\n",
    "\n",
    "    # Perform bootstrapping\n",
    "    for i in range(num_samples):\n",
    "        # Sample with replacement from predictions and true values\n",
    "        sampled_predictions, sampled_true_values = resample(predictions, true_values, n_samples=sample_size)\n",
    "\n",
    "        # Calculate profit for sampled data\n",
    "        profit, i = calculate_profit(sampled_predictions, sampled_true_values)\n",
    "        \n",
    "        # Append profit to samples list\n",
    "        profit_samples.append(profit)\n",
    "\n",
    "    return np.array(profit_samples)"
   ]
  },
  {
   "cell_type": "code",
   "execution_count": 30,
   "metadata": {},
   "outputs": [],
   "source": [
    "# Calculate bootstrap profit for each region\n",
    "profit_samples_region_0 = bootstrap_profit(predictions_0, true_values_0)\n",
    "profit_samples_region_1 = bootstrap_profit(predictions_1, true_values_1)\n",
    "profit_samples_region_2 = bootstrap_profit(predictions_2, true_values_2)"
   ]
  },
  {
   "cell_type": "code",
   "execution_count": 31,
   "metadata": {},
   "outputs": [],
   "source": [
    "# Calculate risks and profit for each region\n",
    "avg_profit_0, confidence_interval_0, risk_of_losses_0 = calculate_risks_and_profit(profit_samples_region_0)\n",
    "avg_profit_1, confidence_interval_1, risk_of_losses_1 = calculate_risks_and_profit(profit_samples_region_1)\n",
    "avg_profit_2, confidence_interval_2, risk_of_losses_2 = calculate_risks_and_profit(profit_samples_region_2)"
   ]
  },
  {
   "cell_type": "markdown",
   "metadata": {},
   "source": [
    "### Display of the distribution of profits per region"
   ]
  },
  {
   "cell_type": "code",
   "execution_count": 34,
   "metadata": {
    "scrolled": false
   },
   "outputs": [
    {
     "data": {
      "text/plain": [
       "Text(0, 0.5, 'Frequency')"
      ]
     },
     "execution_count": 34,
     "metadata": {},
     "output_type": "execute_result"
    },
    {
     "data": {
      "image/png": "[encoded data removed]",
      "text/plain": [
       "<Figure size 1200x600 with 1 Axes>"
      ]
     },
     "metadata": {},
     "output_type": "display_data"
    }
   ],
   "source": [
    "plt.figure(figsize=(12, 6))\n",
    "plt.hist(profit_samples_region_0, bins=50, color='blue', alpha=0.7)\n",
    "plt.title('Region 0 Profit Distribution')\n",
    "plt.xlabel('Profit')\n",
    "plt.ylabel('Frequency')"
   ]
  },
  {
   "cell_type": "code",
   "execution_count": 37,
   "metadata": {},
   "outputs": [
    {
     "data": {
      "text/plain": [
       "Text(0, 0.5, 'Frequency')"
      ]
     },
     "execution_count": 37,
     "metadata": {},
     "output_type": "execute_result"
    },
    {
     "data": {
      "image/png": "[encoded data removed]",
      "text/plain": [
       "<Figure size 1200x600 with 1 Axes>"
      ]
     },
     "metadata": {},
     "output_type": "display_data"
    }
   ],
   "source": [
    "plt.figure(figsize=(12, 6))\n",
    "plt.hist(profit_samples_region_1, bins=50, color='red', alpha=0.7)\n",
    "plt.title('Region 1 Profit Distribution')\n",
    "plt.xlabel('Profit')\n",
    "plt.ylabel('Frequency')"
   ]
  },
  {
   "cell_type": "code",
   "execution_count": 38,
   "metadata": {},
   "outputs": [
    {
     "data": {
      "text/plain": [
       "Text(0, 0.5, 'Frequency')"
      ]
     },
     "execution_count": 38,
     "metadata": {},
     "output_type": "execute_result"
    },
    {
     "data": {
      "image/png": "[encoded data removed]",
      "text/plain": [
       "<Figure size 1200x600 with 1 Axes>"
      ]
     },
     "metadata": {},
     "output_type": "display_data"
    }
   ],
   "source": [
    "plt.figure(figsize=(12, 6))\n",
    "plt.hist(profit_samples_region_2, bins=50, color='green', alpha=0.7)\n",
    "plt.title('Region 2 Profit Distribution')\n",
    "plt.xlabel('Profit')\n",
    "plt.ylabel('Frequency')"
   ]
  },
  {
   "cell_type": "markdown",
   "metadata": {},
   "source": [
    "From the graphs above we see the distrbutions of profits across the three regions. It is evident that the while region all of them have good profit distrubition, region 0 and 2 have a wider distribution beyond the 0 mark indicating a higher risk of loss. Region 1 has a more uniform structure.\n",
    "\n",
    "- Region 0: has a skewed distribution with a long right tail. The majority of the profit values are concentrated around 0.25 to 0.5, with a peak around 0.4. There are also some instances of higher profits, extending up to around 1.1. However, the distribution has a sharp drop-off after the peak, indicating fewer occurrences of very high profits in this region. Alot of fluctuations.\n",
    "- Region 1: The peak is slightly lower than in Region 0, but the distribution is more evenly spread out. There are fewer instances of very low or very high profits in this region compared to Region 0.\n",
    "- Region 2: This distribution is skewed to the left, with the several peaks. There is a longer tail towards the higher profit values, extending up to around 1.0. Unlike the other regions, there are more instances of lower profits in Region 2, with a significant portion of the distribution below 0.2."
   ]
  },
  {
   "cell_type": "code",
   "execution_count": 56,
   "metadata": {},
   "outputs": [
    {
     "name": "stdout",
     "output_type": "stream",
     "text": [
      "Region 0:\n",
      "Average Profit: 3995754.7805422964\n",
      "95% Confidence Interval: [-1104678.95331971  8974603.27717881]\n",
      "Risk of Losses: 6.0 %\n"
     ]
    }
   ],
   "source": [
    "# Print findings for each region\n",
    "print(\"Region 0:\")\n",
    "print(\"Average Profit:\", avg_profit_0)\n",
    "print(\"95% Confidence Interval:\", confidence_interval_0)\n",
    "print(\"Risk of Losses:\", risk_of_losses_0, \"%\")"
   ]
  },
  {
   "cell_type": "code",
   "execution_count": 57,
   "metadata": {},
   "outputs": [
    {
     "name": "stdout",
     "output_type": "stream",
     "text": [
      "Region 1:\n",
      "Average Profit: 4520488.909064583\n",
      "95% Confidence Interval: [ 616844.79654225 8453401.77507385]\n",
      "Risk of Losses: 1.5 %\n"
     ]
    }
   ],
   "source": [
    "# Print findings for each region\n",
    "print(\"Region 1:\")\n",
    "print(\"Average Profit:\", avg_profit_1)\n",
    "print(\"95% Confidence Interval:\", confidence_interval_1)\n",
    "print(\"Risk of Losses:\", risk_of_losses_1, \"%\")"
   ]
  },
  {
   "cell_type": "code",
   "execution_count": 58,
   "metadata": {},
   "outputs": [
    {
     "name": "stdout",
     "output_type": "stream",
     "text": [
      "Region 2:\n",
      "Average Profit: 3750099.0291532897\n",
      "95% Confidence Interval: [-1447667.27304894  8883904.03534222]\n",
      "Risk of Losses: 8.0 %\n"
     ]
    }
   ],
   "source": [
    "# Print findings for each region\n",
    "print(\"Region 2:\")\n",
    "print(\"Average Profit:\", avg_profit_2)\n",
    "print(\"95% Confidence Interval:\", confidence_interval_2)\n",
    "print(\"Risk of Losses:\", risk_of_losses_2, \"%\")"
   ]
  },
  {
   "cell_type": "markdown",
   "metadata": {},
   "source": [
    "## Conclusion"
   ]
  },
  {
   "cell_type": "markdown",
   "metadata": {},
   "source": [
    "### Graph Analysis:\n",
    "Region 0:\n",
    "- Distribution: Multimodal distribution with several peaks.\n",
    "- Highest Peak: Between 2,500 and 3,000 thousand barrels.\n",
    "- Interpretation: Indicates multiple clusters of reserves at different volume levels, suggesting a varied distribution of reserve sizes.\n",
    "\n",
    "Region 1:\n",
    "- Distribution: Bimodal distribution.\n",
    "- Highest Peaks: Around 8,000 and 8,500 thousand barrels.\n",
    "- Interpretation: Most reserves are concentrated around these two volume levels, indicating a distinct split in reserve sizes.\n",
    "\n",
    "Region 2:\n",
    "- Distribution: Multimodal distribution with several peaks and troughs.\n",
    "- Highest Peak: Around 3,000 thousand barrels.\n",
    "- Interpretation: Indicates a diverse range of reserve sizes, suggesting a complex distribution.\n",
    "\n",
    "### RMSE Analysis:\n",
    "\n",
    "Region 0:\n",
    "- RMSE: 37.76\n",
    "- Average Volume of Predicted Reserves: 92.40 thousand barrels\n",
    "- Interpretation: Higher RMSE indicates less accurate predictions, but it has a relatively high average volume of reserves.\n",
    "\n",
    "Region 1:\n",
    "RMSE: 0.89\n",
    "- Average Volume of Predicted Reserves: 68.71 thousand barrels\n",
    "- Interpretation: Lowest RMSE indicates the highest prediction accuracy. However, it has the lowest average volume of reserves.\n",
    "\n",
    "Region 2:\n",
    "- RMSE: 40.15\n",
    "- Average Volume of Predicted Reserves: 94.77 thousand barrels\n",
    "- Interpretation: Highest RMSE indicates the least accurate predictions, but it has a high average volume of reserves.\n",
    "\n",
    "### Bootstrapping Findings:\n",
    "#### Profit Distribution Analysis\n",
    "-The profit distributions across the three regions reveal distinct patterns. Region 0 shows a skewed distribution with fluctuations and a higher risk of loss. Region 1 exhibits a more uniform structure, indicating stability. In contrast, Region 2 displays a diverse range of profits with a higher risk of loss. Overall, Region 1 presents the most stable profit distribution, while Regions 0 and 2 show wider distributions and higher risks. These findings provide valuable insights for decision-making in oil well development.\n",
    "\n",
    "Region 0:\n",
    "- Average Profit: 3,995,754.78 dollars\n",
    "- 95% Confidence Interval: [-1,104,678.95, 8,974,603.28]\n",
    "- Risk of Losses: 6.0 per cent\n",
    "\n",
    "Region 1:\n",
    "- Average Profit: 4,520,488.91 dollars\n",
    "- 95% Confidence Interval: [616,844.80, 8,453,401.78]\n",
    "- Risk of Losses: 1.5 per cent\n",
    "\n",
    "Region 2:\n",
    "- Average Profit: 3,750,099.03 dollars\n",
    "- 95% Confidence Interval: [-1,447,667.27, 8,883,904.04]\n",
    "- Risk of Losses: 8.0 per cent\n",
    "\n",
    "### Summary and Recommendations:\n",
    "Region 0:\n",
    "- Region 0 has a high average profit and a wide confidence interval indicating significant variability in potential profits. It also has a moderate risk of losses. Despite the high potential for profit, the increased risk and variability make it less reliable.\n",
    "\n",
    "Region 1:\n",
    "- Region 1 shows the highest average profit with a narrower confidence interval, indicating more consistent profitability. It also has the lowest risk of losses, making it a reliable and attractive option despite having a lower volume of reserves.\n",
    "\n",
    "Region 2:\n",
    "- Region 2 presents a moderate average profit and a wide confidence interval, suggesting considerable variability in profitability. It also has the highest risk of losses and the least accurate predictions, making it a less favorable option.\n",
    "\n",
    "### Recommendation:\n",
    "- Develop oil wells in Region 1 due to its combination of high average profit, low risk of losses, and reliable prediction accuracy. While Region 0 shows high potential profit, the increased risk of losses and greater variability make Region 1 a more balanced and safer choice for maximizing profitability while managing risks effectively."
   ]
  }
 ],
 "metadata": {
  "ExecuteTimeLog": [
   {
    "duration": 449,
    "start_time": "2024-05-16T13:48:26.432Z"
   },
   {
    "duration": 1072,
    "start_time": "2024-05-16T13:57:04.872Z"
   },
   {
    "duration": 510,
    "start_time": "2024-05-16T13:57:32.914Z"
   },
   {
    "duration": 23,
    "start_time": "2024-05-16T13:57:40.007Z"
   },
   {
    "duration": 12,
    "start_time": "2024-05-16T13:59:00.435Z"
   },
   {
    "duration": 13,
    "start_time": "2024-05-16T13:59:16.165Z"
   },
   {
    "duration": 20,
    "start_time": "2024-05-16T13:59:24.033Z"
   },
   {
    "duration": 19,
    "start_time": "2024-05-16T14:04:34.895Z"
   },
   {
    "duration": 17,
    "start_time": "2024-05-16T14:04:46.678Z"
   },
   {
    "duration": 22,
    "start_time": "2024-05-16T14:05:01.341Z"
   },
   {
    "duration": 23,
    "start_time": "2024-05-16T14:05:07.080Z"
   },
   {
    "duration": 27,
    "start_time": "2024-05-16T14:05:18.043Z"
   },
   {
    "duration": 709,
    "start_time": "2024-05-16T15:27:30.508Z"
   },
   {
    "duration": 5,
    "start_time": "2024-05-16T16:07:16.686Z"
   },
   {
    "duration": 6,
    "start_time": "2024-05-16T16:09:33.850Z"
   },
   {
    "duration": 107,
    "start_time": "2024-05-16T16:11:45.651Z"
   },
   {
    "duration": 80,
    "start_time": "2024-05-16T16:12:33.870Z"
   },
   {
    "duration": 41,
    "start_time": "2024-05-16T16:12:42.915Z"
   },
   {
    "duration": 42,
    "start_time": "2024-05-16T16:13:05.903Z"
   },
   {
    "duration": 57,
    "start_time": "2024-05-16T16:13:25.879Z"
   },
   {
    "duration": 5,
    "start_time": "2024-05-16T16:13:51.743Z"
   },
   {
    "duration": 408,
    "start_time": "2024-05-16T16:13:51.755Z"
   },
   {
    "duration": 14,
    "start_time": "2024-05-16T16:13:52.166Z"
   },
   {
    "duration": 25,
    "start_time": "2024-05-16T16:13:52.183Z"
   },
   {
    "duration": 14,
    "start_time": "2024-05-16T16:13:52.212Z"
   },
   {
    "duration": 19,
    "start_time": "2024-05-16T16:13:52.230Z"
   },
   {
    "duration": 56,
    "start_time": "2024-05-16T16:13:52.252Z"
   },
   {
    "duration": 18,
    "start_time": "2024-05-16T16:13:52.311Z"
   },
   {
    "duration": 7,
    "start_time": "2024-05-16T16:13:52.331Z"
   },
   {
    "duration": 49,
    "start_time": "2024-05-16T16:14:02.280Z"
   },
   {
    "duration": 5,
    "start_time": "2024-05-16T16:14:34.395Z"
   },
   {
    "duration": 6,
    "start_time": "2024-05-16T16:15:00.247Z"
   },
   {
    "duration": 245,
    "start_time": "2024-05-16T16:15:03.914Z"
   },
   {
    "duration": 37,
    "start_time": "2024-05-16T16:21:05.633Z"
   },
   {
    "duration": 205,
    "start_time": "2024-05-16T16:21:29.908Z"
   },
   {
    "duration": 7,
    "start_time": "2024-05-16T16:22:03.939Z"
   },
   {
    "duration": 197,
    "start_time": "2024-05-16T16:22:13.715Z"
   },
   {
    "duration": 6,
    "start_time": "2024-05-16T16:28:14.708Z"
   },
   {
    "duration": 53,
    "start_time": "2024-05-16T16:28:15.819Z"
   },
   {
    "duration": 7,
    "start_time": "2024-05-16T16:29:28.579Z"
   },
   {
    "duration": 244,
    "start_time": "2024-05-16T16:29:29.961Z"
   },
   {
    "duration": 31,
    "start_time": "2024-05-16T16:36:19.044Z"
   },
   {
    "duration": 31,
    "start_time": "2024-05-16T16:36:29.275Z"
   },
   {
    "duration": 36,
    "start_time": "2024-05-16T16:36:46.104Z"
   },
   {
    "duration": 32,
    "start_time": "2024-05-16T16:36:51.119Z"
   },
   {
    "duration": 319,
    "start_time": "2024-05-16T19:31:13.922Z"
   },
   {
    "duration": 352,
    "start_time": "2024-05-16T19:31:24.123Z"
   },
   {
    "duration": 27,
    "start_time": "2024-05-16T19:31:38.334Z"
   },
   {
    "duration": 939,
    "start_time": "2024-05-16T19:32:00.628Z"
   },
   {
    "duration": 529,
    "start_time": "2024-05-16T19:32:01.571Z"
   },
   {
    "duration": 20,
    "start_time": "2024-05-16T19:32:02.103Z"
   },
   {
    "duration": 13,
    "start_time": "2024-05-16T19:32:02.128Z"
   },
   {
    "duration": 14,
    "start_time": "2024-05-16T19:32:02.145Z"
   },
   {
    "duration": 58,
    "start_time": "2024-05-16T19:32:02.164Z"
   },
   {
    "duration": 18,
    "start_time": "2024-05-16T19:32:02.225Z"
   },
   {
    "duration": 18,
    "start_time": "2024-05-16T19:32:02.246Z"
   },
   {
    "duration": 146,
    "start_time": "2024-05-16T19:32:02.267Z"
   },
   {
    "duration": 22,
    "start_time": "2024-05-16T19:32:04.534Z"
   },
   {
    "duration": 25,
    "start_time": "2024-05-16T19:32:38.794Z"
   },
   {
    "duration": 32,
    "start_time": "2024-05-16T19:51:24.722Z"
   },
   {
    "duration": 27,
    "start_time": "2024-05-16T19:51:32.972Z"
   },
   {
    "duration": 362,
    "start_time": "2024-05-16T19:51:33.822Z"
   },
   {
    "duration": 23,
    "start_time": "2024-05-16T19:51:47.784Z"
   },
   {
    "duration": 33,
    "start_time": "2024-05-16T19:52:03.704Z"
   },
   {
    "duration": 34,
    "start_time": "2024-05-16T20:13:43.748Z"
   },
   {
    "duration": 25,
    "start_time": "2024-05-16T20:14:00.641Z"
   },
   {
    "duration": 29,
    "start_time": "2024-05-16T20:14:14.020Z"
   },
   {
    "duration": 26,
    "start_time": "2024-05-16T20:15:03.441Z"
   },
   {
    "duration": 24,
    "start_time": "2024-05-16T20:16:32.984Z"
   },
   {
    "duration": 349,
    "start_time": "2024-05-16T20:16:35.985Z"
   },
   {
    "duration": 13,
    "start_time": "2024-05-16T20:16:36.877Z"
   },
   {
    "duration": 12,
    "start_time": "2024-05-16T20:16:37.669Z"
   },
   {
    "duration": 12,
    "start_time": "2024-05-16T20:16:38.159Z"
   },
   {
    "duration": 18,
    "start_time": "2024-05-16T20:16:38.646Z"
   },
   {
    "duration": 20,
    "start_time": "2024-05-16T20:16:38.859Z"
   },
   {
    "duration": 18,
    "start_time": "2024-05-16T20:16:39.109Z"
   },
   {
    "duration": 10,
    "start_time": "2024-05-16T20:16:39.287Z"
   },
   {
    "duration": 6,
    "start_time": "2024-05-16T20:16:39.725Z"
   },
   {
    "duration": 31,
    "start_time": "2024-05-16T20:16:40.052Z"
   },
   {
    "duration": 25,
    "start_time": "2024-05-16T20:16:40.716Z"
   },
   {
    "duration": 28,
    "start_time": "2024-05-16T20:16:41.000Z"
   },
   {
    "duration": 108,
    "start_time": "2024-05-16T20:16:58.790Z"
   },
   {
    "duration": 23,
    "start_time": "2024-05-16T20:19:41.255Z"
   },
   {
    "duration": 1633,
    "start_time": "2024-05-18T20:42:17.195Z"
   },
   {
    "duration": 0,
    "start_time": "2024-05-18T20:42:18.831Z"
   },
   {
    "duration": 0,
    "start_time": "2024-05-18T20:42:18.833Z"
   },
   {
    "duration": 0,
    "start_time": "2024-05-18T20:42:18.836Z"
   },
   {
    "duration": 0,
    "start_time": "2024-05-18T20:42:18.839Z"
   },
   {
    "duration": 4,
    "start_time": "2024-05-18T20:42:37.976Z"
   },
   {
    "duration": 503,
    "start_time": "2024-05-18T20:42:41.576Z"
   },
   {
    "duration": 27,
    "start_time": "2024-05-18T20:42:42.082Z"
   },
   {
    "duration": 19,
    "start_time": "2024-05-18T20:42:42.596Z"
   },
   {
    "duration": 11,
    "start_time": "2024-05-18T20:42:43.126Z"
   },
   {
    "duration": 27,
    "start_time": "2024-05-18T20:42:43.583Z"
   },
   {
    "duration": 20,
    "start_time": "2024-05-18T20:43:16.894Z"
   },
   {
    "duration": 19,
    "start_time": "2024-05-18T20:43:17.387Z"
   },
   {
    "duration": 20,
    "start_time": "2024-05-18T20:43:17.794Z"
   },
   {
    "duration": 22,
    "start_time": "2024-05-18T20:43:18.494Z"
   },
   {
    "duration": 24,
    "start_time": "2024-05-18T20:43:23.524Z"
   },
   {
    "duration": 4159,
    "start_time": "2024-05-18T20:44:00.124Z"
   },
   {
    "duration": 299,
    "start_time": "2024-05-18T20:45:10.685Z"
   },
   {
    "duration": 307,
    "start_time": "2024-05-18T20:45:26.849Z"
   },
   {
    "duration": 457,
    "start_time": "2024-05-18T20:45:36.692Z"
   },
   {
    "duration": 418,
    "start_time": "2024-05-18T20:45:48.612Z"
   },
   {
    "duration": 530,
    "start_time": "2024-05-18T20:45:56.795Z"
   },
   {
    "duration": 6,
    "start_time": "2024-05-18T20:47:49.615Z"
   },
   {
    "duration": 65,
    "start_time": "2024-05-18T20:47:49.815Z"
   },
   {
    "duration": 3,
    "start_time": "2024-05-18T20:48:22.711Z"
   },
   {
    "duration": 6,
    "start_time": "2024-05-18T20:54:05.134Z"
   },
   {
    "duration": 103,
    "start_time": "2024-05-18T20:54:06.105Z"
   },
   {
    "duration": 32,
    "start_time": "2024-05-18T20:54:06.892Z"
   },
   {
    "duration": 30,
    "start_time": "2024-05-18T20:54:07.435Z"
   },
   {
    "duration": 7,
    "start_time": "2024-05-18T20:57:25.629Z"
   },
   {
    "duration": 117,
    "start_time": "2024-05-18T20:57:26.312Z"
   },
   {
    "duration": 4,
    "start_time": "2024-05-18T20:57:46.849Z"
   },
   {
    "duration": 200,
    "start_time": "2024-05-18T20:57:52.806Z"
   },
   {
    "duration": 8,
    "start_time": "2024-05-18T20:57:55.687Z"
   },
   {
    "duration": 136,
    "start_time": "2024-05-18T20:57:56.477Z"
   },
   {
    "duration": 7,
    "start_time": "2024-05-18T20:58:33.029Z"
   },
   {
    "duration": 29,
    "start_time": "2024-05-18T20:58:33.634Z"
   },
   {
    "duration": 31,
    "start_time": "2024-05-18T20:58:36.044Z"
   },
   {
    "duration": 27,
    "start_time": "2024-05-18T20:58:36.723Z"
   },
   {
    "duration": 7,
    "start_time": "2024-05-18T20:59:07.853Z"
   },
   {
    "duration": 28,
    "start_time": "2024-05-18T20:59:10.572Z"
   },
   {
    "duration": 27,
    "start_time": "2024-05-18T20:59:11.197Z"
   },
   {
    "duration": 31,
    "start_time": "2024-05-18T20:59:11.718Z"
   },
   {
    "duration": 4,
    "start_time": "2024-05-18T21:03:49.683Z"
   },
   {
    "duration": 4,
    "start_time": "2024-05-18T21:03:57.008Z"
   },
   {
    "duration": 7,
    "start_time": "2024-05-18T21:47:30.545Z"
   },
   {
    "duration": 1171,
    "start_time": "2024-05-19T21:19:07.082Z"
   },
   {
    "duration": 487,
    "start_time": "2024-05-19T21:19:08.256Z"
   },
   {
    "duration": 19,
    "start_time": "2024-05-19T21:19:08.746Z"
   },
   {
    "duration": 14,
    "start_time": "2024-05-19T21:19:08.770Z"
   },
   {
    "duration": 13,
    "start_time": "2024-05-19T21:19:08.788Z"
   },
   {
    "duration": 19,
    "start_time": "2024-05-19T21:19:08.836Z"
   },
   {
    "duration": 19,
    "start_time": "2024-05-19T21:19:08.858Z"
   },
   {
    "duration": 54,
    "start_time": "2024-05-19T21:19:08.880Z"
   },
   {
    "duration": 4325,
    "start_time": "2024-05-19T21:19:08.937Z"
   },
   {
    "duration": 435,
    "start_time": "2024-05-19T21:19:13.268Z"
   },
   {
    "duration": 522,
    "start_time": "2024-05-19T21:19:13.706Z"
   },
   {
    "duration": 7,
    "start_time": "2024-05-19T21:19:14.235Z"
   },
   {
    "duration": 89,
    "start_time": "2024-05-19T21:19:14.246Z"
   },
   {
    "duration": 121,
    "start_time": "2024-05-19T21:19:14.338Z"
   },
   {
    "duration": 166,
    "start_time": "2024-05-19T21:19:14.469Z"
   },
   {
    "duration": 5,
    "start_time": "2024-05-19T21:19:48.532Z"
   },
   {
    "duration": 4,
    "start_time": "2024-05-19T21:19:55.793Z"
   },
   {
    "duration": 6,
    "start_time": "2024-05-19T21:20:23.854Z"
   },
   {
    "duration": 4,
    "start_time": "2024-05-19T21:26:01.879Z"
   },
   {
    "duration": 4,
    "start_time": "2024-05-19T21:27:45.194Z"
   },
   {
    "duration": 3,
    "start_time": "2024-05-19T21:27:49.295Z"
   },
   {
    "duration": 362,
    "start_time": "2024-05-19T22:49:41.329Z"
   },
   {
    "duration": 2393,
    "start_time": "2024-05-19T22:50:02.495Z"
   },
   {
    "duration": 650,
    "start_time": "2024-05-19T22:50:04.891Z"
   },
   {
    "duration": 20,
    "start_time": "2024-05-19T22:50:05.543Z"
   },
   {
    "duration": 12,
    "start_time": "2024-05-19T22:50:05.567Z"
   },
   {
    "duration": 54,
    "start_time": "2024-05-19T22:50:05.582Z"
   },
   {
    "duration": 19,
    "start_time": "2024-05-19T22:50:05.640Z"
   },
   {
    "duration": 18,
    "start_time": "2024-05-19T22:50:05.662Z"
   },
   {
    "duration": 47,
    "start_time": "2024-05-19T22:50:05.685Z"
   },
   {
    "duration": 6394,
    "start_time": "2024-05-19T22:50:05.735Z"
   },
   {
    "duration": 451,
    "start_time": "2024-05-19T22:50:12.139Z"
   },
   {
    "duration": 508,
    "start_time": "2024-05-19T22:50:12.593Z"
   },
   {
    "duration": 10,
    "start_time": "2024-05-19T22:50:13.108Z"
   },
   {
    "duration": 87,
    "start_time": "2024-05-19T22:50:13.125Z"
   },
   {
    "duration": 99,
    "start_time": "2024-05-19T22:50:13.222Z"
   },
   {
    "duration": 96,
    "start_time": "2024-05-19T22:50:13.331Z"
   },
   {
    "duration": 7,
    "start_time": "2024-05-19T22:50:13.444Z"
   },
   {
    "duration": 61,
    "start_time": "2024-05-19T22:50:13.454Z"
   },
   {
    "duration": 17,
    "start_time": "2024-05-19T22:50:13.529Z"
   },
   {
    "duration": 5,
    "start_time": "2024-05-19T22:50:13.550Z"
   },
   {
    "duration": 6,
    "start_time": "2024-05-19T22:55:16.430Z"
   },
   {
    "duration": 9,
    "start_time": "2024-05-20T00:45:22.854Z"
   },
   {
    "duration": 1231,
    "start_time": "2024-05-20T00:45:32.301Z"
   },
   {
    "duration": 520,
    "start_time": "2024-05-20T00:45:33.536Z"
   },
   {
    "duration": 19,
    "start_time": "2024-05-20T00:45:34.059Z"
   },
   {
    "duration": 29,
    "start_time": "2024-05-20T00:45:34.083Z"
   },
   {
    "duration": 17,
    "start_time": "2024-05-20T00:45:34.116Z"
   },
   {
    "duration": 22,
    "start_time": "2024-05-20T00:45:34.136Z"
   },
   {
    "duration": 58,
    "start_time": "2024-05-20T00:45:34.162Z"
   },
   {
    "duration": 18,
    "start_time": "2024-05-20T00:45:34.222Z"
   },
   {
    "duration": 4392,
    "start_time": "2024-05-20T00:45:34.244Z"
   },
   {
    "duration": 492,
    "start_time": "2024-05-20T00:45:38.643Z"
   },
   {
    "duration": 451,
    "start_time": "2024-05-20T00:45:39.138Z"
   },
   {
    "duration": 18,
    "start_time": "2024-05-20T00:45:39.594Z"
   },
   {
    "duration": 47,
    "start_time": "2024-05-20T00:45:39.614Z"
   },
   {
    "duration": 110,
    "start_time": "2024-05-20T00:45:39.717Z"
   },
   {
    "duration": 102,
    "start_time": "2024-05-20T00:45:39.834Z"
   },
   {
    "duration": 5,
    "start_time": "2024-05-20T00:45:45.153Z"
   },
   {
    "duration": 5,
    "start_time": "2024-05-20T00:45:45.467Z"
   },
   {
    "duration": 4,
    "start_time": "2024-05-20T00:45:46.649Z"
   },
   {
    "duration": 5,
    "start_time": "2024-05-20T00:45:47.429Z"
   },
   {
    "duration": 4,
    "start_time": "2024-05-20T01:30:11.467Z"
   },
   {
    "duration": 7,
    "start_time": "2024-05-20T01:31:02.074Z"
   },
   {
    "duration": 4,
    "start_time": "2024-05-20T01:34:15.615Z"
   },
   {
    "duration": 6,
    "start_time": "2024-05-20T01:36:33.629Z"
   },
   {
    "duration": 5,
    "start_time": "2024-05-20T01:36:39.137Z"
   },
   {
    "duration": 6,
    "start_time": "2024-05-20T01:36:42.088Z"
   },
   {
    "duration": 5,
    "start_time": "2024-05-20T01:36:47.538Z"
   },
   {
    "duration": 462,
    "start_time": "2024-05-20T01:54:40.160Z"
   },
   {
    "duration": 30,
    "start_time": "2024-05-20T01:56:22.687Z"
   },
   {
    "duration": 38,
    "start_time": "2024-05-20T01:57:12.999Z"
   },
   {
    "duration": 6,
    "start_time": "2024-05-20T02:01:57.601Z"
   },
   {
    "duration": 35,
    "start_time": "2024-05-20T02:03:04.762Z"
   },
   {
    "duration": 35,
    "start_time": "2024-05-20T02:03:25.031Z"
   },
   {
    "duration": 4,
    "start_time": "2024-05-20T02:04:19.545Z"
   },
   {
    "duration": 28,
    "start_time": "2024-05-20T02:04:40.356Z"
   },
   {
    "duration": 108,
    "start_time": "2024-05-20T02:10:53.012Z"
   },
   {
    "duration": 7,
    "start_time": "2024-05-20T02:11:09.361Z"
   },
   {
    "duration": 29,
    "start_time": "2024-05-20T02:11:11.318Z"
   },
   {
    "duration": 31,
    "start_time": "2024-05-20T02:11:32.838Z"
   },
   {
    "duration": 29,
    "start_time": "2024-05-20T02:11:50.717Z"
   },
   {
    "duration": 5,
    "start_time": "2024-05-20T02:12:35.534Z"
   },
   {
    "duration": 32,
    "start_time": "2024-05-20T02:13:37.427Z"
   },
   {
    "duration": 24,
    "start_time": "2024-05-20T02:15:16.073Z"
   },
   {
    "duration": 26,
    "start_time": "2024-05-20T02:15:17.050Z"
   },
   {
    "duration": 29,
    "start_time": "2024-05-20T02:15:58.608Z"
   },
   {
    "duration": 33,
    "start_time": "2024-05-20T02:16:24.176Z"
   },
   {
    "duration": 25,
    "start_time": "2024-05-20T02:16:36.477Z"
   },
   {
    "duration": 25,
    "start_time": "2024-05-20T02:16:46.246Z"
   },
   {
    "duration": 17,
    "start_time": "2024-05-20T02:16:53.519Z"
   },
   {
    "duration": 5,
    "start_time": "2024-05-20T03:28:32.875Z"
   },
   {
    "duration": 14,
    "start_time": "2024-05-20T03:28:46.016Z"
   },
   {
    "duration": 5,
    "start_time": "2024-05-20T03:28:54.171Z"
   },
   {
    "duration": 15,
    "start_time": "2024-05-20T03:42:15.632Z"
   },
   {
    "duration": 14,
    "start_time": "2024-05-20T03:45:33.570Z"
   },
   {
    "duration": 6,
    "start_time": "2024-05-20T04:06:53.594Z"
   },
   {
    "duration": 4,
    "start_time": "2024-05-20T04:07:07.996Z"
   },
   {
    "duration": 6,
    "start_time": "2024-05-20T04:07:49.180Z"
   },
   {
    "duration": 9744,
    "start_time": "2024-05-20T04:08:23.145Z"
   },
   {
    "duration": 6,
    "start_time": "2024-05-20T04:16:46.265Z"
   },
   {
    "duration": 5,
    "start_time": "2024-05-20T04:17:37.828Z"
   },
   {
    "duration": 5,
    "start_time": "2024-05-20T04:17:59.798Z"
   },
   {
    "duration": 6,
    "start_time": "2024-05-20T04:18:19.020Z"
   },
   {
    "duration": 18,
    "start_time": "2024-05-20T13:20:15.544Z"
   },
   {
    "duration": 1188,
    "start_time": "2024-05-20T13:20:24.075Z"
   },
   {
    "duration": 526,
    "start_time": "2024-05-20T13:20:25.266Z"
   },
   {
    "duration": 21,
    "start_time": "2024-05-20T13:20:25.795Z"
   },
   {
    "duration": 12,
    "start_time": "2024-05-20T13:20:25.821Z"
   },
   {
    "duration": 14,
    "start_time": "2024-05-20T13:20:25.837Z"
   },
   {
    "duration": 56,
    "start_time": "2024-05-20T13:20:25.854Z"
   },
   {
    "duration": 19,
    "start_time": "2024-05-20T13:20:25.912Z"
   },
   {
    "duration": 18,
    "start_time": "2024-05-20T13:20:25.934Z"
   },
   {
    "duration": 4440,
    "start_time": "2024-05-20T13:20:25.954Z"
   },
   {
    "duration": 426,
    "start_time": "2024-05-20T13:20:30.408Z"
   },
   {
    "duration": 526,
    "start_time": "2024-05-20T13:20:30.837Z"
   },
   {
    "duration": 8,
    "start_time": "2024-05-20T13:20:31.367Z"
   },
   {
    "duration": 59,
    "start_time": "2024-05-20T13:20:31.378Z"
   },
   {
    "duration": 177,
    "start_time": "2024-05-20T13:20:31.440Z"
   },
   {
    "duration": 105,
    "start_time": "2024-05-20T13:20:31.625Z"
   },
   {
    "duration": 5,
    "start_time": "2024-05-20T13:20:31.813Z"
   },
   {
    "duration": 7,
    "start_time": "2024-05-20T13:20:31.821Z"
   },
   {
    "duration": 77,
    "start_time": "2024-05-20T13:20:31.833Z"
   },
   {
    "duration": 5,
    "start_time": "2024-05-20T13:20:31.913Z"
   },
   {
    "duration": 7,
    "start_time": "2024-05-20T13:20:36.247Z"
   },
   {
    "duration": 8,
    "start_time": "2024-05-20T13:28:57.802Z"
   },
   {
    "duration": 6,
    "start_time": "2024-05-20T13:29:18.793Z"
   },
   {
    "duration": 6,
    "start_time": "2024-05-20T13:50:36.043Z"
   },
   {
    "duration": 6,
    "start_time": "2024-05-20T13:50:37.185Z"
   },
   {
    "duration": 13,
    "start_time": "2024-05-20T13:50:38.541Z"
   },
   {
    "duration": 4,
    "start_time": "2024-05-20T13:50:39.403Z"
   },
   {
    "duration": 7,
    "start_time": "2024-05-20T14:12:07.089Z"
   },
   {
    "duration": 414,
    "start_time": "2024-05-20T15:19:17.400Z"
   },
   {
    "duration": 4,
    "start_time": "2024-05-20T15:56:39.689Z"
   },
   {
    "duration": 5,
    "start_time": "2024-05-20T15:56:40.224Z"
   },
   {
    "duration": 9880,
    "start_time": "2024-05-20T15:56:40.606Z"
   },
   {
    "duration": 19,
    "start_time": "2024-05-20T15:56:50.490Z"
   },
   {
    "duration": 6,
    "start_time": "2024-05-20T15:56:50.512Z"
   },
   {
    "duration": 6,
    "start_time": "2024-05-20T15:56:50.522Z"
   },
   {
    "duration": 6,
    "start_time": "2024-05-20T15:56:50.531Z"
   },
   {
    "duration": 6,
    "start_time": "2024-05-20T15:57:53.091Z"
   },
   {
    "duration": 6,
    "start_time": "2024-05-20T16:38:18.875Z"
   },
   {
    "duration": 11166,
    "start_time": "2024-05-20T16:38:20.574Z"
   },
   {
    "duration": 6,
    "start_time": "2024-05-20T16:38:31.745Z"
   },
   {
    "duration": 5,
    "start_time": "2024-05-20T16:38:31.755Z"
   },
   {
    "duration": 6,
    "start_time": "2024-05-20T16:38:31.765Z"
   },
   {
    "duration": 5,
    "start_time": "2024-05-20T16:38:31.808Z"
   },
   {
    "duration": 5,
    "start_time": "2024-05-20T16:43:49.577Z"
   },
   {
    "duration": 10732,
    "start_time": "2024-05-20T16:43:51.283Z"
   },
   {
    "duration": 6,
    "start_time": "2024-05-20T16:44:02.018Z"
   },
   {
    "duration": 5,
    "start_time": "2024-05-20T16:44:02.028Z"
   },
   {
    "duration": 7,
    "start_time": "2024-05-20T16:44:02.037Z"
   },
   {
    "duration": 6,
    "start_time": "2024-05-20T16:44:02.048Z"
   },
   {
    "duration": 364,
    "start_time": "2024-05-20T16:51:25.149Z"
   },
   {
    "duration": 377,
    "start_time": "2024-05-20T16:51:42.565Z"
   },
   {
    "duration": 329,
    "start_time": "2024-05-20T16:51:48.887Z"
   },
   {
    "duration": 21,
    "start_time": "2024-05-20T17:08:07.941Z"
   },
   {
    "duration": 60,
    "start_time": "2024-05-20T17:08:21.440Z"
   },
   {
    "duration": 61,
    "start_time": "2024-05-20T17:08:28.935Z"
   },
   {
    "duration": 57,
    "start_time": "2024-05-20T17:08:52.371Z"
   },
   {
    "duration": 21,
    "start_time": "2024-05-20T17:08:54.810Z"
   },
   {
    "duration": 61,
    "start_time": "2024-05-20T17:09:08.952Z"
   },
   {
    "duration": 13,
    "start_time": "2024-05-21T05:38:21.906Z"
   },
   {
    "duration": 12,
    "start_time": "2024-05-21T19:25:32.478Z"
   },
   {
    "duration": 1212,
    "start_time": "2024-05-21T19:31:53.713Z"
   },
   {
    "duration": 484,
    "start_time": "2024-05-21T19:31:54.929Z"
   },
   {
    "duration": 19,
    "start_time": "2024-05-21T19:31:55.416Z"
   },
   {
    "duration": 12,
    "start_time": "2024-05-21T19:31:55.439Z"
   },
   {
    "duration": 13,
    "start_time": "2024-05-21T19:31:55.455Z"
   },
   {
    "duration": 48,
    "start_time": "2024-05-21T19:31:55.470Z"
   },
   {
    "duration": 94,
    "start_time": "2024-05-21T19:31:55.520Z"
   },
   {
    "duration": 17,
    "start_time": "2024-05-21T19:31:55.617Z"
   },
   {
    "duration": 79,
    "start_time": "2024-05-21T19:31:55.637Z"
   },
   {
    "duration": 17,
    "start_time": "2024-05-21T19:31:55.724Z"
   },
   {
    "duration": 83,
    "start_time": "2024-05-21T19:31:55.746Z"
   },
   {
    "duration": 4379,
    "start_time": "2024-05-21T19:31:55.832Z"
   },
   {
    "duration": 353,
    "start_time": "2024-05-21T19:32:00.214Z"
   },
   {
    "duration": 367,
    "start_time": "2024-05-21T19:32:00.570Z"
   },
   {
    "duration": 7,
    "start_time": "2024-05-21T19:32:00.941Z"
   },
   {
    "duration": 62,
    "start_time": "2024-05-21T19:32:00.955Z"
   },
   {
    "duration": 196,
    "start_time": "2024-05-21T19:32:01.020Z"
   },
   {
    "duration": 97,
    "start_time": "2024-05-21T19:32:01.224Z"
   },
   {
    "duration": 5,
    "start_time": "2024-05-21T19:32:01.406Z"
   },
   {
    "duration": 82,
    "start_time": "2024-05-21T19:32:01.420Z"
   },
   {
    "duration": 5,
    "start_time": "2024-05-21T19:32:01.505Z"
   },
   {
    "duration": 5,
    "start_time": "2024-05-21T19:32:01.514Z"
   },
   {
    "duration": 7,
    "start_time": "2024-05-21T19:32:01.523Z"
   },
   {
    "duration": 5,
    "start_time": "2024-05-21T19:32:01.533Z"
   },
   {
    "duration": 61,
    "start_time": "2024-05-21T19:32:01.541Z"
   },
   {
    "duration": 5,
    "start_time": "2024-05-21T19:32:01.605Z"
   },
   {
    "duration": 5,
    "start_time": "2024-05-21T19:32:01.613Z"
   },
   {
    "duration": 6,
    "start_time": "2024-05-21T19:32:01.625Z"
   },
   {
    "duration": 547,
    "start_time": "2024-05-21T19:32:01.634Z"
   },
   {
    "duration": 0,
    "start_time": "2024-05-21T19:32:02.184Z"
   },
   {
    "duration": 0,
    "start_time": "2024-05-21T19:32:02.185Z"
   },
   {
    "duration": 0,
    "start_time": "2024-05-21T19:32:02.188Z"
   },
   {
    "duration": 0,
    "start_time": "2024-05-21T19:32:02.202Z"
   },
   {
    "duration": 6,
    "start_time": "2024-05-21T19:33:01.212Z"
   },
   {
    "duration": 39,
    "start_time": "2024-05-21T19:33:03.096Z"
   },
   {
    "duration": 6,
    "start_time": "2024-05-21T19:33:58.032Z"
   },
   {
    "duration": 39,
    "start_time": "2024-05-21T19:33:59.333Z"
   },
   {
    "duration": 5,
    "start_time": "2024-05-21T19:34:41.997Z"
   },
   {
    "duration": 1271,
    "start_time": "2024-05-21T19:34:43.296Z"
   },
   {
    "duration": 6,
    "start_time": "2024-05-21T19:34:44.659Z"
   },
   {
    "duration": 5,
    "start_time": "2024-05-21T19:34:45.468Z"
   },
   {
    "duration": 5,
    "start_time": "2024-05-21T19:34:51.548Z"
   },
   {
    "duration": 6,
    "start_time": "2024-05-21T19:34:52.061Z"
   },
   {
    "duration": 7,
    "start_time": "2024-05-21T19:35:23.803Z"
   },
   {
    "duration": 1370,
    "start_time": "2024-05-21T19:35:24.800Z"
   },
   {
    "duration": 7,
    "start_time": "2024-05-21T19:35:26.175Z"
   },
   {
    "duration": 6,
    "start_time": "2024-05-21T19:35:26.201Z"
   },
   {
    "duration": 6,
    "start_time": "2024-05-21T19:35:26.340Z"
   },
   {
    "duration": 5,
    "start_time": "2024-05-21T19:35:27.583Z"
   },
   {
    "duration": 6,
    "start_time": "2024-05-21T19:36:50.179Z"
   },
   {
    "duration": 1266,
    "start_time": "2024-05-21T19:36:51.201Z"
   },
   {
    "duration": 7,
    "start_time": "2024-05-21T19:36:52.470Z"
   },
   {
    "duration": 23,
    "start_time": "2024-05-21T19:36:52.480Z"
   },
   {
    "duration": 5,
    "start_time": "2024-05-21T19:36:52.507Z"
   },
   {
    "duration": 6,
    "start_time": "2024-05-21T19:36:52.515Z"
   },
   {
    "duration": 6,
    "start_time": "2024-05-21T19:38:13.081Z"
   },
   {
    "duration": 1270,
    "start_time": "2024-05-21T19:38:14.240Z"
   },
   {
    "duration": 7,
    "start_time": "2024-05-21T19:38:15.514Z"
   },
   {
    "duration": 6,
    "start_time": "2024-05-21T19:38:15.523Z"
   },
   {
    "duration": 5,
    "start_time": "2024-05-21T19:38:15.533Z"
   },
   {
    "duration": 6,
    "start_time": "2024-05-21T19:38:15.541Z"
   },
   {
    "duration": 7,
    "start_time": "2024-05-21T19:39:43.082Z"
   },
   {
    "duration": 1277,
    "start_time": "2024-05-21T19:39:44.180Z"
   },
   {
    "duration": 6,
    "start_time": "2024-05-21T19:39:45.462Z"
   },
   {
    "duration": 6,
    "start_time": "2024-05-21T19:39:45.472Z"
   },
   {
    "duration": 20,
    "start_time": "2024-05-21T19:39:45.482Z"
   },
   {
    "duration": 7,
    "start_time": "2024-05-21T19:39:45.505Z"
   },
   {
    "duration": 5,
    "start_time": "2024-05-21T19:40:00.061Z"
   },
   {
    "duration": 1276,
    "start_time": "2024-05-21T19:43:03.608Z"
   },
   {
    "duration": 7,
    "start_time": "2024-05-21T19:43:04.886Z"
   },
   {
    "duration": 6,
    "start_time": "2024-05-21T19:43:04.903Z"
   },
   {
    "duration": 4,
    "start_time": "2024-05-21T19:43:04.991Z"
   },
   {
    "duration": 5,
    "start_time": "2024-05-21T19:43:10.381Z"
   },
   {
    "duration": 7,
    "start_time": "2024-05-21T19:51:56.799Z"
   },
   {
    "duration": 1355,
    "start_time": "2024-05-21T19:51:57.082Z"
   },
   {
    "duration": 6,
    "start_time": "2024-05-21T19:51:58.440Z"
   },
   {
    "duration": 5,
    "start_time": "2024-05-21T19:51:58.450Z"
   },
   {
    "duration": 6,
    "start_time": "2024-05-21T19:51:58.460Z"
   },
   {
    "duration": 6,
    "start_time": "2024-05-21T19:51:58.502Z"
   },
   {
    "duration": 1258,
    "start_time": "2024-05-22T16:23:08.824Z"
   },
   {
    "duration": 531,
    "start_time": "2024-05-22T16:23:10.086Z"
   },
   {
    "duration": 25,
    "start_time": "2024-05-22T16:23:10.620Z"
   },
   {
    "duration": 13,
    "start_time": "2024-05-22T16:23:10.650Z"
   },
   {
    "duration": 14,
    "start_time": "2024-05-22T16:23:10.666Z"
   },
   {
    "duration": 56,
    "start_time": "2024-05-22T16:23:10.684Z"
   },
   {
    "duration": 65,
    "start_time": "2024-05-22T16:23:10.742Z"
   },
   {
    "duration": 40,
    "start_time": "2024-05-22T16:23:10.810Z"
   },
   {
    "duration": 82,
    "start_time": "2024-05-22T16:23:10.853Z"
   },
   {
    "duration": 19,
    "start_time": "2024-05-22T16:23:10.941Z"
   },
   {
    "duration": 89,
    "start_time": "2024-05-22T16:23:10.963Z"
   },
   {
    "duration": 4359,
    "start_time": "2024-05-22T16:23:11.055Z"
   },
   {
    "duration": 348,
    "start_time": "2024-05-22T16:23:15.417Z"
   },
   {
    "duration": 353,
    "start_time": "2024-05-22T16:23:15.768Z"
   },
   {
    "duration": 20,
    "start_time": "2024-05-22T16:23:16.124Z"
   },
   {
    "duration": 93,
    "start_time": "2024-05-22T16:23:16.149Z"
   },
   {
    "duration": 104,
    "start_time": "2024-05-22T16:23:16.245Z"
   },
   {
    "duration": 245,
    "start_time": "2024-05-22T16:23:16.352Z"
   },
   {
    "duration": 38,
    "start_time": "2024-05-22T16:23:16.600Z"
   },
   {
    "duration": 6,
    "start_time": "2024-05-22T16:23:16.641Z"
   },
   {
    "duration": 7,
    "start_time": "2024-05-22T16:23:16.650Z"
   },
   {
    "duration": 9,
    "start_time": "2024-05-22T16:23:16.737Z"
   },
   {
    "duration": 6,
    "start_time": "2024-05-22T16:23:16.750Z"
   },
   {
    "duration": 8,
    "start_time": "2024-05-22T16:23:16.760Z"
   },
   {
    "duration": 16,
    "start_time": "2024-05-22T16:23:16.772Z"
   },
   {
    "duration": 5,
    "start_time": "2024-05-22T16:23:16.838Z"
   },
   {
    "duration": 4,
    "start_time": "2024-05-22T16:23:16.847Z"
   },
   {
    "duration": 6,
    "start_time": "2024-05-22T16:23:16.859Z"
   },
   {
    "duration": 549,
    "start_time": "2024-05-22T16:23:16.867Z"
   },
   {
    "duration": 15,
    "start_time": "2024-05-22T16:23:17.419Z"
   },
   {
    "duration": 6,
    "start_time": "2024-05-22T16:23:17.437Z"
   },
   {
    "duration": 5,
    "start_time": "2024-05-22T16:23:17.447Z"
   },
   {
    "duration": 6,
    "start_time": "2024-05-22T16:23:17.456Z"
   },
   {
    "duration": 6,
    "start_time": "2024-05-22T16:23:36.002Z"
   },
   {
    "duration": 1288,
    "start_time": "2024-05-22T16:23:36.591Z"
   },
   {
    "duration": 7,
    "start_time": "2024-05-22T16:23:37.883Z"
   },
   {
    "duration": 6,
    "start_time": "2024-05-22T16:23:37.894Z"
   },
   {
    "duration": 5,
    "start_time": "2024-05-22T16:23:37.935Z"
   },
   {
    "duration": 5,
    "start_time": "2024-05-22T16:23:37.944Z"
   },
   {
    "duration": 11,
    "start_time": "2024-05-22T16:30:09.451Z"
   },
   {
    "duration": 1156,
    "start_time": "2024-05-22T16:30:14.483Z"
   },
   {
    "duration": 476,
    "start_time": "2024-05-22T16:30:15.643Z"
   },
   {
    "duration": 24,
    "start_time": "2024-05-22T16:30:16.122Z"
   },
   {
    "duration": 14,
    "start_time": "2024-05-22T16:30:16.150Z"
   },
   {
    "duration": 45,
    "start_time": "2024-05-22T16:30:16.168Z"
   },
   {
    "duration": 19,
    "start_time": "2024-05-22T16:30:16.216Z"
   },
   {
    "duration": 85,
    "start_time": "2024-05-22T16:30:16.237Z"
   },
   {
    "duration": 18,
    "start_time": "2024-05-22T16:30:16.328Z"
   },
   {
    "duration": 79,
    "start_time": "2024-05-22T16:30:16.349Z"
   },
   {
    "duration": 17,
    "start_time": "2024-05-22T16:30:16.434Z"
   },
   {
    "duration": 82,
    "start_time": "2024-05-22T16:30:16.453Z"
   },
   {
    "duration": 4185,
    "start_time": "2024-05-22T16:30:16.537Z"
   },
   {
    "duration": 350,
    "start_time": "2024-05-22T16:30:20.724Z"
   },
   {
    "duration": 337,
    "start_time": "2024-05-22T16:30:21.077Z"
   },
   {
    "duration": 6,
    "start_time": "2024-05-22T16:30:21.417Z"
   },
   {
    "duration": 89,
    "start_time": "2024-05-22T16:30:21.426Z"
   },
   {
    "duration": 99,
    "start_time": "2024-05-22T16:30:21.520Z"
   },
   {
    "duration": 247,
    "start_time": "2024-05-22T16:30:21.622Z"
   },
   {
    "duration": 39,
    "start_time": "2024-05-22T16:30:21.873Z"
   },
   {
    "duration": 12,
    "start_time": "2024-05-22T16:30:21.916Z"
   },
   {
    "duration": 5,
    "start_time": "2024-05-22T16:30:21.937Z"
   },
   {
    "duration": 69,
    "start_time": "2024-05-22T16:30:21.945Z"
   },
   {
    "duration": 7,
    "start_time": "2024-05-22T16:30:22.016Z"
   },
   {
    "duration": 6,
    "start_time": "2024-05-22T16:30:22.026Z"
   },
   {
    "duration": 15,
    "start_time": "2024-05-22T16:30:22.035Z"
   },
   {
    "duration": 5,
    "start_time": "2024-05-22T16:30:22.052Z"
   },
   {
    "duration": 5,
    "start_time": "2024-05-22T16:30:22.112Z"
   },
   {
    "duration": 6,
    "start_time": "2024-05-22T16:30:22.124Z"
   },
   {
    "duration": 525,
    "start_time": "2024-05-22T16:30:22.133Z"
   },
   {
    "duration": 6,
    "start_time": "2024-05-22T16:30:22.661Z"
   },
   {
    "duration": 27,
    "start_time": "2024-05-22T16:30:22.670Z"
   },
   {
    "duration": 14,
    "start_time": "2024-05-22T16:30:22.699Z"
   },
   {
    "duration": 6,
    "start_time": "2024-05-22T16:30:22.716Z"
   },
   {
    "duration": 6,
    "start_time": "2024-05-22T16:30:49.221Z"
   },
   {
    "duration": 498,
    "start_time": "2024-05-22T16:30:50.544Z"
   },
   {
    "duration": 7,
    "start_time": "2024-05-22T16:30:51.045Z"
   },
   {
    "duration": 5,
    "start_time": "2024-05-22T16:30:51.055Z"
   },
   {
    "duration": 5,
    "start_time": "2024-05-22T16:30:51.132Z"
   },
   {
    "duration": 5,
    "start_time": "2024-05-22T16:30:51.694Z"
   },
   {
    "duration": 7,
    "start_time": "2024-05-22T16:31:13.915Z"
   },
   {
    "duration": 492,
    "start_time": "2024-05-22T16:31:14.998Z"
   },
   {
    "duration": 6,
    "start_time": "2024-05-22T16:31:15.494Z"
   },
   {
    "duration": 5,
    "start_time": "2024-05-22T16:31:15.514Z"
   },
   {
    "duration": 5,
    "start_time": "2024-05-22T16:31:15.566Z"
   },
   {
    "duration": 6,
    "start_time": "2024-05-22T16:31:17.122Z"
   },
   {
    "duration": 6,
    "start_time": "2024-05-22T16:31:26.624Z"
   },
   {
    "duration": 507,
    "start_time": "2024-05-22T16:31:27.288Z"
   },
   {
    "duration": 14,
    "start_time": "2024-05-22T16:31:27.800Z"
   },
   {
    "duration": 6,
    "start_time": "2024-05-22T16:31:27.817Z"
   },
   {
    "duration": 5,
    "start_time": "2024-05-22T16:31:28.000Z"
   },
   {
    "duration": 6,
    "start_time": "2024-05-22T16:31:28.433Z"
   },
   {
    "duration": 6,
    "start_time": "2024-05-22T16:31:41.924Z"
   },
   {
    "duration": 537,
    "start_time": "2024-05-22T16:31:43.630Z"
   },
   {
    "duration": 7,
    "start_time": "2024-05-22T16:31:44.171Z"
   },
   {
    "duration": 32,
    "start_time": "2024-05-22T16:31:44.182Z"
   },
   {
    "duration": 7,
    "start_time": "2024-05-22T16:31:44.219Z"
   },
   {
    "duration": 5,
    "start_time": "2024-05-22T16:31:44.390Z"
   },
   {
    "duration": 4417,
    "start_time": "2024-05-22T20:20:28.546Z"
   },
   {
    "duration": 937,
    "start_time": "2024-05-22T20:20:40.459Z"
   },
   {
    "duration": 496,
    "start_time": "2024-05-22T20:20:41.400Z"
   },
   {
    "duration": 19,
    "start_time": "2024-05-22T20:20:41.899Z"
   },
   {
    "duration": 13,
    "start_time": "2024-05-22T20:20:41.923Z"
   },
   {
    "duration": 15,
    "start_time": "2024-05-22T20:20:41.940Z"
   },
   {
    "duration": 62,
    "start_time": "2024-05-22T20:20:41.959Z"
   },
   {
    "duration": 56,
    "start_time": "2024-05-22T20:20:42.025Z"
   },
   {
    "duration": 37,
    "start_time": "2024-05-22T20:20:42.085Z"
   },
   {
    "duration": 55,
    "start_time": "2024-05-22T20:20:42.124Z"
   },
   {
    "duration": 41,
    "start_time": "2024-05-22T20:20:42.185Z"
   },
   {
    "duration": 58,
    "start_time": "2024-05-22T20:20:42.229Z"
   },
   {
    "duration": 419,
    "start_time": "2024-05-22T20:20:42.312Z"
   },
   {
    "duration": 396,
    "start_time": "2024-05-22T20:20:42.734Z"
   },
   {
    "duration": 352,
    "start_time": "2024-05-22T20:20:43.133Z"
   },
   {
    "duration": 7,
    "start_time": "2024-05-22T20:20:43.487Z"
   },
   {
    "duration": 31,
    "start_time": "2024-05-22T20:20:43.512Z"
   },
   {
    "duration": 85,
    "start_time": "2024-05-22T20:20:43.547Z"
   },
   {
    "duration": 183,
    "start_time": "2024-05-22T20:20:43.636Z"
   },
   {
    "duration": 9,
    "start_time": "2024-05-22T20:20:43.822Z"
   },
   {
    "duration": 74,
    "start_time": "2024-05-22T20:20:43.840Z"
   },
   {
    "duration": 12,
    "start_time": "2024-05-22T20:20:43.922Z"
   },
   {
    "duration": 5,
    "start_time": "2024-05-22T20:20:43.940Z"
   },
   {
    "duration": 8,
    "start_time": "2024-05-22T20:20:44.012Z"
   },
   {
    "duration": 6,
    "start_time": "2024-05-22T20:20:44.024Z"
   },
   {
    "duration": 14,
    "start_time": "2024-05-22T20:20:44.033Z"
   },
   {
    "duration": 8,
    "start_time": "2024-05-22T20:20:44.050Z"
   },
   {
    "duration": 7,
    "start_time": "2024-05-22T20:20:44.061Z"
   },
   {
    "duration": 8,
    "start_time": "2024-05-22T20:20:44.120Z"
   },
   {
    "duration": 542,
    "start_time": "2024-05-22T20:20:44.132Z"
   },
   {
    "duration": 7,
    "start_time": "2024-05-22T20:20:44.677Z"
   },
   {
    "duration": 985,
    "start_time": "2024-05-22T20:21:51.480Z"
   },
   {
    "duration": 350,
    "start_time": "2024-05-22T20:23:07.671Z"
   },
   {
    "duration": 316,
    "start_time": "2024-05-22T20:23:17.679Z"
   },
   {
    "duration": 420,
    "start_time": "2024-05-22T20:23:52.537Z"
   },
   {
    "duration": 402,
    "start_time": "2024-05-22T20:24:15.381Z"
   },
   {
    "duration": 311,
    "start_time": "2024-05-22T20:34:29.234Z"
   },
   {
    "duration": 344,
    "start_time": "2024-05-22T20:34:51.233Z"
   }
  ],
  "kernelspec": {
   "display_name": "Python 3 (ipykernel)",
   "language": "python",
   "name": "python3"
  },
  "language_info": {
   "codemirror_mode": {
    "name": "ipython",
    "version": 3
   },
   "file_extension": ".py",
   "mimetype": "text/x-python",
   "name": "python",
   "nbconvert_exporter": "python",
   "pygments_lexer": "ipython3",
   "version": "3.9.19"
  },
  "toc": {
   "base_numbering": 1,
   "nav_menu": {},
   "number_sections": true,
   "sideBar": true,
   "skip_h1_title": true,
   "title_cell": "Table of Contents",
   "title_sidebar": "Contents",
   "toc_cell": false,
   "toc_position": {},
   "toc_section_display": true,
   "toc_window_display": false
  }
 },
 "nbformat": 4,
 "nbformat_minor": 2
}
